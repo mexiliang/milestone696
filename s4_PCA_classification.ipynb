{
 "cells": [
  {
   "cell_type": "code",
   "execution_count": 9,
   "id": "478c79fc",
   "metadata": {},
   "outputs": [],
   "source": [
    "import pandas as pd\n",
    "import numpy as np\n",
    "\n",
    "from sklearn.model_selection import train_test_split\n",
    "from sklearn.preprocessing import StandardScaler\n",
    "from sklearn.metrics import accuracy_score\n",
    "\n",
    "from sklearn.linear_model import LogisticRegression\n",
    "from sklearn.linear_model import SGDClassifier\n",
    "from sklearn.ensemble import RandomForestClassifier\n",
    "import lightgbm as lgb\n",
    "\n",
    "from sklearn.decomposition import PCA\n"
   ]
  },
  {
   "cell_type": "markdown",
   "id": "a227942d",
   "metadata": {},
   "source": [
    "## (the following code is same as s4_models_classification)"
   ]
  },
  {
   "cell_type": "code",
   "execution_count": 10,
   "id": "b5a202c4",
   "metadata": {},
   "outputs": [],
   "source": [
    "dfcombo = pd.read_csv('combo.csv')\n",
    "# dfcombo.describe().T"
   ]
  },
  {
   "cell_type": "code",
   "execution_count": 11,
   "id": "23071a1e",
   "metadata": {},
   "outputs": [],
   "source": [
    "years_to_encode = [2019, 2020, 2021]\n",
    "for year in years_to_encode:\n",
    "    dfcombo[f'year_{year}'] = (dfcombo['year'] == year).astype(int)"
   ]
  },
  {
   "cell_type": "code",
   "execution_count": 12,
   "id": "28a7bc7b",
   "metadata": {},
   "outputs": [],
   "source": [
    "dfcombo['year'] = dfcombo['year'].astype('category')"
   ]
  },
  {
   "cell_type": "code",
   "execution_count": 13,
   "id": "ff070925",
   "metadata": {},
   "outputs": [],
   "source": [
    "featuresX = dfcombo.columns.tolist()\n",
    "del featuresX[31:]\n",
    "del featuresX[0:2]\n",
    "featuresA = featuresX + ['year_2019', 'year_2020', 'year_2021']\n",
    "featuresB = featuresX + ['year']\n",
    "ycol='pct_next_1yr'\n",
    "y = [ycol]\n",
    "# featuresA"
   ]
  },
  {
   "cell_type": "code",
   "execution_count": 14,
   "id": "cf86126e",
   "metadata": {},
   "outputs": [],
   "source": [
    "dfcombo['weighted_avg'] = (dfcombo['population'] * dfcombo['pct_next_1yr']).groupby(dfcombo['year']).transform('sum') / dfcombo['population'].groupby(dfcombo['year']).transform('sum')\n",
    "dfcombo['winner'] = dfcombo.apply(lambda x: 1 if x['pct_next_1yr'] > x['weighted_avg'] else 0, axis=1)"
   ]
  },
  {
   "cell_type": "markdown",
   "id": "53081e81",
   "metadata": {},
   "source": [
    "## PCA"
   ]
  },
  {
   "cell_type": "code",
   "execution_count": 37,
   "id": "19cfd486",
   "metadata": {},
   "outputs": [],
   "source": [
    "X = dfcombo[featuresB]\n",
    "y = dfcombo['winner']\n",
    "# no need for StandardScaler\n",
    "X_train, X_test, y_train, y_test = train_test_split(X, y, test_size=0.3, random_state=42)\n",
    "\n",
    "pca = PCA(n_components=13)\n",
    "X_train_pca = pca.fit_transform(X_train)\n",
    "X_test_pca = pca.transform(X_test)"
   ]
  },
  {
   "cell_type": "markdown",
   "id": "aebea02d",
   "metadata": {},
   "source": [
    "## Random Forest Classifier with PCA"
   ]
  },
  {
   "cell_type": "code",
   "execution_count": 39,
   "id": "324f1720",
   "metadata": {},
   "outputs": [
    {
     "name": "stdout",
     "output_type": "stream",
     "text": [
      "Accuracy: 70.87%\n"
     ]
    }
   ],
   "source": [
    "rf_clf = RandomForestClassifier(random_state=42)\n",
    "rf_clf.fit(X_train_pca, y_train)\n",
    "y_pred = rf_clf.predict(X_test_pca)\n",
    "accuracy = accuracy_score(y_test, y_pred)\n",
    "print(f\"Accuracy: {accuracy*100:.2f}%\")"
   ]
  },
  {
   "cell_type": "code",
   "execution_count": null,
   "id": "244a4d53",
   "metadata": {},
   "outputs": [],
   "source": [
    "# 2:  55\n",
    "# 5:  62.46\n",
    "# 10: 70.50\n",
    "# 12: 70.82\n",
    "# 13: 70.87  <- best. from 29 features to 13, accuracy only decreased from 73.34 (63 sec) to 70.87 (46 sec)\n",
    "# 14: 70.78\n",
    "# 15: 70.80\n",
    "# 22: 70.54\n",
    "# 30: 70.41\n"
   ]
  }
 ],
 "metadata": {
  "kernelspec": {
   "display_name": "Python 3 (ipykernel)",
   "language": "python",
   "name": "python3"
  },
  "language_info": {
   "codemirror_mode": {
    "name": "ipython",
    "version": 3
   },
   "file_extension": ".py",
   "mimetype": "text/x-python",
   "name": "python",
   "nbconvert_exporter": "python",
   "pygments_lexer": "ipython3",
   "version": "3.10.9"
  }
 },
 "nbformat": 4,
 "nbformat_minor": 5
}

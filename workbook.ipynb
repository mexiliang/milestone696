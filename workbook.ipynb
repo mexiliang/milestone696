{
 "cells": [
  {
   "cell_type": "code",
   "execution_count": 55,
   "id": "16c53bbb",
   "metadata": {},
   "outputs": [],
   "source": [
    "import pandas as pd\n",
    "import requests\n",
    "import json\n",
    "import pyarrow as pa\n",
    "from pyarrow import csv"
   ]
  },
  {
   "cell_type": "code",
   "execution_count": 49,
   "id": "1504709c",
   "metadata": {},
   "outputs": [
    {
     "name": "stdout",
     "output_type": "stream",
     "text": [
      "Requirement already satisfied: pyarrow in c:\\users\\temp\\anaconda3\\lib\\site-packages (11.0.0)\n",
      "Requirement already satisfied: numpy>=1.16.6 in c:\\users\\temp\\anaconda3\\lib\\site-packages (from pyarrow) (1.24.3)\n",
      "Note: you may need to restart the kernel to use updated packages.\n"
     ]
    }
   ],
   "source": [
    "# pip install pyarrow"
   ]
  },
  {
   "cell_type": "code",
   "execution_count": 3,
   "id": "4791372a",
   "metadata": {},
   "outputs": [],
   "source": [
    "key = 'your key'"
   ]
  },
  {
   "cell_type": "code",
   "execution_count": null,
   "id": "06696ae6",
   "metadata": {},
   "outputs": [],
   "source": [
    "def get_census_data_by_zip(api_key, fields, year):\n",
    "    \"\"\"\n",
    "    Fetch census data by ZIP Code Tabulation Areas (ZCTAs) for specified fields.\n",
    "    \n",
    "    :param api_key: Your Census API Key.\n",
    "    :param fields: List of fields to fetch.\n",
    "    :param year: Census year (default is 2020).\n",
    "    :return: DataFrame with fetched data.\n",
    "    \"\"\"\n",
    "    base_url = f\"https://api.census.gov/data/{year}/acs/acs5\"\n",
    "    \n",
    "    # Combine the fields into a comma-separated string\n",
    "    fields_str = \",\".join(fields)\n",
    "    \n",
    "    # Construct the final URL\n",
    "    url = f\"{base_url}?get={fields_str}&for=zip%20code%20tabulation%20area:*\"\n",
    "    \n",
    "    headers = {\n",
    "        \"Content-Type\": \"application/json\",\n",
    "    }\n",
    "    \n",
    "    # Make the API request\n",
    "    response = requests.get(url, headers=headers, params={\"key\": api_key})\n",
    "    \n",
    "    if response.status_code == 200:\n",
    "        data = response.json()\n",
    "        # Convert data to DataFrame\n",
    "        df = pd.DataFrame(data[1:], columns=data[0])\n",
    "        df['year'] = year\n",
    "        return df\n",
    "    else:\n",
    "        print(f\"Error {response.status_code}: {response.text}\")\n",
    "        return None"
   ]
  },
  {
   "cell_type": "code",
   "execution_count": 57,
   "id": "41c82efe",
   "metadata": {},
   "outputs": [],
   "source": [
    "# get labels\n",
    "label = 'census data labels.xlsx - raw labels.csv'\n",
    "label_df = pd.read_csv(label)\n",
    "label_df = label_df[label_df['include'] == 1]"
   ]
  },
  {
   "cell_type": "code",
   "execution_count": 65,
   "id": "913b5f47",
   "metadata": {},
   "outputs": [
    {
     "name": "stdout",
     "output_type": "stream",
     "text": [
      "Error 400: error: error: unknown variable 'B25130_002E'\n",
      "Error 400: error: error: unknown variable 'B25130_009E'\n",
      "Error 400: error: error: unknown variable 'C15003_016E'\n"
     ]
    }
   ],
   "source": [
    "# set year, feature is set\n",
    "year =2021\n",
    "\n",
    "\n",
    "FIELDS = list(label_df['Name'])\n",
    "FIELDS50 = FIELDS[0:50]\n",
    "FIELDS100 = FIELDS[50:100]\n",
    "FIELDS150 = FIELDS[100:150]\n",
    "FIELDS200 = FIELDS[150:200]\n",
    "FIELDS250 = FIELDS[200:250]\n",
    "FIELDS300 = FIELDS[250:300]\n",
    "FIELDS310 = FIELDS[300::]\n",
    "\n",
    "\n",
    "\n",
    "\n",
    "df50 = get_census_data_by_zip(key, FIELDS50, year)\n",
    "df100 = get_census_data_by_zip(key, FIELDS100, year)\n",
    "df150 = get_census_data_by_zip(key, FIELDS150, year)\n",
    "df200 = get_census_data_by_zip(key, FIELDS200, year)\n",
    "df250 = get_census_data_by_zip(key, FIELDS250, year)\n",
    "df300 = get_census_data_by_zip(key, FIELDS300, year)\n",
    "df310 = get_census_data_by_zip(key, FIELDS310, year)\n",
    "frames = [df50, df100, df150, df200, df250, df300, df310]\n",
    "df = pd.concat(frames)\n",
    "\n",
    "## saving to file locally\n",
    "out = pa.Table.from_pandas(df)\n",
    "file_name = 'census{}.csv'.format(year)\n",
    "csv.write_csv(out, file_name)\n",
    "\n",
    "\n",
    "# df.to_csv('census2019.csv')\n",
    "\n",
    "\n",
    "# '''\n",
    "# Error 400: error: error: unknown variable 'B25130_001E'\n",
    "# Error 400: error: error: unknown variable 'B25130_007E'\n",
    "# Error 400: error: error: unknown variable 'C15003_013E'\n",
    "# Error 400: error: error: unknown variable 'B25130_002E'\n",
    "# Error 400: error: error: unknown variable 'B25130_009E'\n",
    "# Error 400: error: error: unknown variable 'C15003_016E'\n",
    "# Error 400: error: error: unknown variable 'B24114_002E'\n",
    "# Error 400: error: error: unknown variable 'B25130_002E'\n",
    "# Error 400: error: error: unknown variable 'B25130_009E'\n",
    "# Error 400: error: error: unknown variable 'C15003_016E'\n",
    "# '''"
   ]
  },
  {
   "cell_type": "code",
   "execution_count": 52,
   "id": "52db5019",
   "metadata": {},
   "outputs": [
    {
     "ename": "NameError",
     "evalue": "name 'out_pd' is not defined",
     "output_type": "error",
     "traceback": [
      "\u001b[1;31m---------------------------------------------------------------------------\u001b[0m",
      "\u001b[1;31mNameError\u001b[0m                                 Traceback (most recent call last)",
      "Cell \u001b[1;32mIn[52], line 3\u001b[0m\n\u001b[0;32m      1\u001b[0m df50 \u001b[38;5;241m=\u001b[39m get_census_data_by_zip(key, FIELDS50, year)\n\u001b[0;32m      2\u001b[0m out \u001b[38;5;241m=\u001b[39m pa\u001b[38;5;241m.\u001b[39mTable\u001b[38;5;241m.\u001b[39mfrom_pandas(df50)\n\u001b[1;32m----> 3\u001b[0m \u001b[38;5;28;01mdel\u001b[39;00m out_pd\n\u001b[0;32m      4\u001b[0m csv\u001b[38;5;241m.\u001b[39mwrite_csv(out, \u001b[38;5;124m'\u001b[39m\u001b[38;5;124mcensus2019-p1.csv\u001b[39m\u001b[38;5;124m'\u001b[39m)\n",
      "\u001b[1;31mNameError\u001b[0m: name 'out_pd' is not defined"
     ]
    }
   ],
   "source": [
    "\n"
   ]
  },
  {
   "cell_type": "code",
   "execution_count": null,
   "id": "81c8c50d",
   "metadata": {},
   "outputs": [],
   "source": []
  },
  {
   "cell_type": "code",
   "execution_count": null,
   "id": "4f513180",
   "metadata": {},
   "outputs": [],
   "source": []
  },
  {
   "cell_type": "code",
   "execution_count": 56,
   "id": "d77aee3a",
   "metadata": {},
   "outputs": [],
   "source": []
  },
  {
   "cell_type": "code",
   "execution_count": 33,
   "id": "d8fd654d",
   "metadata": {},
   "outputs": [
    {
     "name": "stdout",
     "output_type": "stream",
     "text": [
      "Error 400: error: error: unknown variable 'C15003_004E'\n"
     ]
    }
   ],
   "source": []
  },
  {
   "cell_type": "code",
   "execution_count": 26,
   "id": "25f42475",
   "metadata": {},
   "outputs": [
    {
     "data": {
      "text/plain": [
       "'B07410_004E'"
      ]
     },
     "execution_count": 26,
     "metadata": {},
     "output_type": "execute_result"
    }
   ],
   "source": []
  },
  {
   "cell_type": "code",
   "execution_count": 28,
   "id": "96d01111",
   "metadata": {},
   "outputs": [
    {
     "data": {
      "text/plain": [
       "'B08303_007E'"
      ]
     },
     "execution_count": 28,
     "metadata": {},
     "output_type": "execute_result"
    }
   ],
   "source": []
  },
  {
   "cell_type": "code",
   "execution_count": 29,
   "id": "2ff0ec13",
   "metadata": {},
   "outputs": [
    {
     "data": {
      "text/plain": [
       "'B08303_008E'"
      ]
     },
     "execution_count": 29,
     "metadata": {},
     "output_type": "execute_result"
    }
   ],
   "source": []
  },
  {
   "cell_type": "code",
   "execution_count": null,
   "id": "20a06bad",
   "metadata": {},
   "outputs": [],
   "source": []
  }
 ],
 "metadata": {
  "kernelspec": {
   "display_name": "Python 3 (ipykernel)",
   "language": "python",
   "name": "python3"
  },
  "language_info": {
   "codemirror_mode": {
    "name": "ipython",
    "version": 3
   },
   "file_extension": ".py",
   "mimetype": "text/x-python",
   "name": "python",
   "nbconvert_exporter": "python",
   "pygments_lexer": "ipython3",
   "version": "3.11.4"
  }
 },
 "nbformat": 4,
 "nbformat_minor": 5
}

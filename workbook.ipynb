{
 "cells": [
  {
   "cell_type": "code",
   "execution_count": 66,
   "id": "8d186d4f",
   "metadata": {},
   "outputs": [],
   "source": [
    "import pandas as pd\n",
    "import requests\n",
    "import json\n",
    "import pyarrow as pa\n",
    "from pyarrow import csv"
   ]
  },
  {
   "cell_type": "code",
   "execution_count": 67,
   "id": "d81d86c7",
   "metadata": {},
   "outputs": [],
   "source": [
    "# pip install pyarrow"
   ]
  },
  {
   "cell_type": "code",
   "execution_count": 68,
   "id": "17397d44",
   "metadata": {},
   "outputs": [],
   "source": [
    "key = 'your key'"
   ]
  },
  {
   "cell_type": "code",
   "execution_count": 69,
   "id": "a6541bd0",
   "metadata": {},
   "outputs": [],
   "source": [
    "def get_census_data_by_zip(api_key, fields, year):\n",
    "    \"\"\"\n",
    "    Fetch census data by ZIP Code Tabulation Areas (ZCTAs) for specified fields.\n",
    "    \n",
    "    :param api_key: Your Census API Key.\n",
    "    :param fields: List of fields to fetch.\n",
    "    :param year: Census year (default is 2020).\n",
    "    :return: DataFrame with fetched data.\n",
    "    \"\"\"\n",
    "    base_url = f\"https://api.census.gov/data/{year}/acs/acs5\"\n",
    "    \n",
    "    # Combine the fields into a comma-separated string\n",
    "    fields_str = \",\".join(fields)\n",
    "    \n",
    "    # Construct the final URL\n",
    "    url = f\"{base_url}?get={fields_str}&for=zip%20code%20tabulation%20area:*\"\n",
    "    \n",
    "    headers = {\n",
    "        \"Content-Type\": \"application/json\",\n",
    "    }\n",
    "    \n",
    "    # Make the API request\n",
    "    response = requests.get(url, headers=headers, params={\"key\": api_key})\n",
    "    \n",
    "    if response.status_code == 200:\n",
    "        data = response.json()\n",
    "        # Convert data to DataFrame\n",
    "        df = pd.DataFrame(data[1:], columns=data[0])\n",
    "        df['year'] = year\n",
    "        return df\n",
    "    else:\n",
    "        print(f\"Error {response.status_code}: {response.text}\")\n",
    "        return None"
   ]
  },
  {
   "cell_type": "code",
   "execution_count": 70,
   "id": "c3fa89a9",
   "metadata": {},
   "outputs": [],
   "source": [
    "# get labels\n",
    "label = 'census data labels.xlsx - raw labels.csv'\n",
    "label_df = pd.read_csv(label)\n",
    "label_df = label_df[label_df['include'] == 1]"
   ]
  },
  {
   "cell_type": "code",
   "execution_count": 71,
   "id": "919e1091",
   "metadata": {},
   "outputs": [
    {
     "name": "stdout",
     "output_type": "stream",
     "text": [
      "Error 400: error: error: unknown variable 'B24114_002E'\n",
      "Error 400: error: error: unknown variable 'B25130_002E'\n",
      "Error 400: error: error: unknown variable 'B25130_009E'\n",
      "Error 400: error: error: unknown variable 'C15003_016E'\n"
     ]
    }
   ],
   "source": [
    "# set year, feature is set\n",
    "year =2015\n",
    "\n",
    "\n",
    "FIELDS = list(label_df['Name'])\n",
    "FIELDS50 = FIELDS[0:50]\n",
    "FIELDS100 = FIELDS[50:100]\n",
    "FIELDS150 = FIELDS[100:150]\n",
    "FIELDS200 = FIELDS[150:200]\n",
    "FIELDS250 = FIELDS[200:250]\n",
    "FIELDS300 = FIELDS[250:300]\n",
    "FIELDS310 = FIELDS[300::]\n",
    "\n",
    "\n",
    "\n",
    "\n",
    "df50 = get_census_data_by_zip(key, FIELDS50, year)\n",
    "df100 = get_census_data_by_zip(key, FIELDS100, year)\n",
    "df150 = get_census_data_by_zip(key, FIELDS150, year)\n",
    "df200 = get_census_data_by_zip(key, FIELDS200, year)\n",
    "df250 = get_census_data_by_zip(key, FIELDS250, year)\n",
    "df300 = get_census_data_by_zip(key, FIELDS300, year)\n",
    "df310 = get_census_data_by_zip(key, FIELDS310, year)\n",
    "frames = [df50, df100, df150, df200, df250, df300, df310]\n",
    "df = pd.concat(frames)\n",
    "\n",
    "## saving to file locally\n",
    "out = pa.Table.from_pandas(df)\n",
    "file_name = 'census{}.csv'.format(year)\n",
    "csv.write_csv(out, file_name)\n",
    "\n",
    "\n",
    "# df.to_csv('census2019.csv')\n",
    "\n",
    "\n",
    "# '''\n",
    "# Error 400: error: error: unknown variable 'B25130_001E'\n",
    "# Error 400: error: error: unknown variable 'B25130_007E'\n",
    "# Error 400: error: error: unknown variable 'C15003_013E'\n",
    "# Error 400: error: error: unknown variable 'B25130_002E'\n",
    "# Error 400: error: error: unknown variable 'B25130_009E'\n",
    "# Error 400: error: error: unknown variable 'C15003_016E'\n",
    "# Error 400: error: error: unknown variable 'B24114_002E'\n",
    "# Error 400: error: error: unknown variable 'B25130_002E'\n",
    "# Error 400: error: error: unknown variable 'B25130_009E'\n",
    "# Error 400: error: error: unknown variable 'C15003_016E'\n",
    "# '''"
   ]
  },
  {
   "cell_type": "code",
   "execution_count": null,
   "id": "36b3c072",
   "metadata": {},
   "outputs": [],
   "source": [
    "\n"
   ]
  },
  {
   "cell_type": "code",
   "execution_count": null,
   "id": "5d740760",
   "metadata": {},
   "outputs": [],
   "source": []
  },
  {
   "cell_type": "code",
   "execution_count": null,
   "id": "1bb02c74",
   "metadata": {},
   "outputs": [],
   "source": []
  },
  {
   "cell_type": "code",
   "execution_count": null,
   "id": "cf1afa18",
   "metadata": {},
   "outputs": [],
   "source": []
  },
  {
   "cell_type": "code",
   "execution_count": null,
   "id": "4cbf6088",
   "metadata": {},
   "outputs": [],
   "source": []
  },
  {
   "cell_type": "code",
   "execution_count": null,
   "id": "ce21b7cb",
   "metadata": {},
   "outputs": [],
   "source": []
  },
  {
   "cell_type": "code",
   "execution_count": null,
   "id": "680129c9",
   "metadata": {},
   "outputs": [],
   "source": []
  },
  {
   "cell_type": "code",
   "execution_count": null,
   "id": "07ecf916",
   "metadata": {},
   "outputs": [],
   "source": []
  },
  {
   "cell_type": "code",
   "execution_count": null,
   "id": "baab4be4",
   "metadata": {},
   "outputs": [],
   "source": []
  },
  {
   "cell_type": "code",
   "execution_count": null,
   "id": "f041e67e",
   "metadata": {},
   "outputs": [],
   "source": []
  }
 ],
 "metadata": {
  "kernelspec": {
   "display_name": "Python 3 (ipykernel)",
   "language": "python",
   "name": "python3"
  },
  "language_info": {
   "codemirror_mode": {
    "name": "ipython",
    "version": 3
   },
   "file_extension": ".py",
   "mimetype": "text/x-python",
   "name": "python",
   "nbconvert_exporter": "python",
   "pygments_lexer": "ipython3",
   "version": "3.11.4"
  }
 },
 "nbformat": 4,
 "nbformat_minor": 5
}

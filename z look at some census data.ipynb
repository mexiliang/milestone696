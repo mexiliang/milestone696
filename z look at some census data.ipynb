{
 "cells": [
  {
   "cell_type": "code",
   "execution_count": 1,
   "id": "2ca7eef0",
   "metadata": {},
   "outputs": [],
   "source": [
    "with open('census_api_key.txt') as f:\n",
    "    lines = f.readlines()\n",
    "API_KEY = lines[0]\n",
    "\n",
    "import pandas as pd\n",
    "import urllib.request, json \n",
    "import requests\n",
    "import os.path"
   ]
  },
  {
   "cell_type": "code",
   "execution_count": 2,
   "id": "3f67ccc8",
   "metadata": {},
   "outputs": [],
   "source": [
    "years = list(range(2021, 2022))"
   ]
  },
  {
   "cell_type": "code",
   "execution_count": 47,
   "id": "c888b37f",
   "metadata": {},
   "outputs": [
    {
     "data": {
      "text/html": [
       "<div>\n",
       "<style scoped>\n",
       "    .dataframe tbody tr th:only-of-type {\n",
       "        vertical-align: middle;\n",
       "    }\n",
       "\n",
       "    .dataframe tbody tr th {\n",
       "        vertical-align: top;\n",
       "    }\n",
       "\n",
       "    .dataframe thead th {\n",
       "        text-align: right;\n",
       "    }\n",
       "</style>\n",
       "<table border=\"1\" class=\"dataframe\">\n",
       "  <thead>\n",
       "    <tr style=\"text-align: right;\">\n",
       "      <th></th>\n",
       "      <th>code</th>\n",
       "      <th>myname</th>\n",
       "      <th>use_as_is</th>\n",
       "      <th>note</th>\n",
       "    </tr>\n",
       "  </thead>\n",
       "  <tbody>\n",
       "    <tr>\n",
       "      <th>0</th>\n",
       "      <td>B01001_001E</td>\n",
       "      <td>population</td>\n",
       "      <td>1</td>\n",
       "      <td>use as is and use for calculations</td>\n",
       "    </tr>\n",
       "    <tr>\n",
       "      <th>1</th>\n",
       "      <td>B11001_001E</td>\n",
       "      <td>num_households</td>\n",
       "      <td>0</td>\n",
       "      <td>use it for ave household size (popn/).</td>\n",
       "    </tr>\n",
       "    <tr>\n",
       "      <th>2</th>\n",
       "      <td>B25087_001E</td>\n",
       "      <td>costoliving_old</td>\n",
       "      <td>0</td>\n",
       "      <td></td>\n",
       "    </tr>\n",
       "    <tr>\n",
       "      <th>3</th>\n",
       "      <td>B25088_001E</td>\n",
       "      <td>costoliving_new1</td>\n",
       "      <td>0</td>\n",
       "      <td></td>\n",
       "    </tr>\n",
       "    <tr>\n",
       "      <th>4</th>\n",
       "      <td>B25089_001E</td>\n",
       "      <td>costoliving_new2</td>\n",
       "      <td>0</td>\n",
       "      <td></td>\n",
       "    </tr>\n",
       "  </tbody>\n",
       "</table>\n",
       "</div>"
      ],
      "text/plain": [
       "          code            myname  use_as_is  \\\n",
       "0  B01001_001E        population          1   \n",
       "1  B11001_001E    num_households          0   \n",
       "2  B25087_001E   costoliving_old          0   \n",
       "3  B25088_001E  costoliving_new1          0   \n",
       "4  B25089_001E  costoliving_new2          0   \n",
       "\n",
       "                                     note  \n",
       "0      use as is and use for calculations  \n",
       "1  use it for ave household size (popn/).  \n",
       "2                                          \n",
       "3                                          \n",
       "4                                          "
      ]
     },
     "execution_count": 47,
     "metadata": {},
     "output_type": "execute_result"
    }
   ],
   "source": [
    "fields = [\n",
    "    ['B01001_001E', 'population', 1, 'use as is and use for calculations'], \n",
    "    # ['B01003_001E', 'populatio2', 1, 'seems to be same as B01001_001E'], \n",
    "    ['B11001_001E', 'num_households', 0, 'use it for ave household size (popn/).'],\n",
    "    ['B25087_001E', 'costoliving_old', 0, ''],\n",
    "    ['B25088_001E', 'costoliving_new1', 0, ''],\n",
    "    ['B25089_001E', 'costoliving_new2', 0, ''],\n",
    "    ['B25092_001E', 'costoliving_new3', 0, ''],\n",
    "    ['B25104_001E', 'costoliving_new4', 0, ''],\n",
    "    ['B25105_001E', 'costoliving_new5', 0, ''],\n",
    "    # ['B25140_001E', 'costoliving_new4', 0, ''],\n",
    "]\n",
    "df_fields = pd.DataFrame(fields, columns=['code', 'myname', 'use_as_is', 'note'])\n",
    "df_fields.head()"
   ]
  },
  {
   "cell_type": "code",
   "execution_count": 48,
   "id": "fb62e14a",
   "metadata": {},
   "outputs": [],
   "source": [
    "# setup some variables to be used below\n",
    "textsplitter = ' zzz '\n",
    "max_year = max(years)"
   ]
  },
  {
   "cell_type": "code",
   "execution_count": 49,
   "id": "3cc77064",
   "metadata": {},
   "outputs": [],
   "source": [
    "def get_field_descriptions(api_key, year):\n",
    "    \"\"\"\n",
    "    Fetch descriptions for fields for a specific year.\n",
    "    \n",
    "    :param api_key: Your Census API Key.\n",
    "    :param year: Census year.\n",
    "    :return: Dictionary with field codes as keys and descriptions as values.\n",
    "    \"\"\"\n",
    "    base_url = f\"https://api.census.gov/data/{year}/acs/acs5/variables\"\n",
    "    response = requests.get(base_url, params={\"key\": api_key})\n",
    "    \n",
    "    if response.status_code == 200:\n",
    "        data = response.json()\n",
    "        # try:\n",
    "        #     # Extract field code and description from the data\n",
    "        #     return {var[\"name\"]: var[\"label\"] for var in data[\"variables\"].values()}\n",
    "        # except TypeError as e:\n",
    "        #     print(f\"Unexpected data structure for year {year}: {data}\")\n",
    "        #     return data\n",
    "        # descriptions = {row[0]: row[1] for row in data[1:]}\n",
    "        descriptions = {row[0]: str(row[1]) + textsplitter + str(row[2]) for row in data[1:]}\n",
    "        return descriptions\n",
    "    else:\n",
    "        print(f\"Error {response.status_code}: {response.text}\")\n",
    "        return {}\n"
   ]
  },
  {
   "cell_type": "code",
   "execution_count": null,
   "id": "c8ec6ad8",
   "metadata": {},
   "outputs": [],
   "source": [
    "# call the function and put the descriptions in a dictionary\n",
    "descriptions = {}\n",
    "descriptions.update(get_field_descriptions(API_KEY, max_year))\n",
    "# add the descriptions to df_fields\n",
    "for field in df_fields['code'].to_list():\n",
    "    this_descr = descriptions.get(field, \"Unknown\")\n",
    "    splitted = this_descr.split(textsplitter)\n",
    "    df_fields.loc[df_fields['code'] == field, 'descr1'] = splitted[0]\n",
    "    descr2=''\n",
    "    if len(splitted)>1:\n",
    "        descr2=splitted[1],\n",
    "    df_fields.loc[df_fields['code'] == field, 'descr2'] = descr2"
   ]
  },
  {
   "cell_type": "code",
   "execution_count": 51,
   "id": "8af90d6d",
   "metadata": {
    "scrolled": true
   },
   "outputs": [
    {
     "data": {
      "text/html": [
       "<div>\n",
       "<style scoped>\n",
       "    .dataframe tbody tr th:only-of-type {\n",
       "        vertical-align: middle;\n",
       "    }\n",
       "\n",
       "    .dataframe tbody tr th {\n",
       "        vertical-align: top;\n",
       "    }\n",
       "\n",
       "    .dataframe thead th {\n",
       "        text-align: right;\n",
       "    }\n",
       "</style>\n",
       "<table border=\"1\" class=\"dataframe\">\n",
       "  <thead>\n",
       "    <tr style=\"text-align: right;\">\n",
       "      <th></th>\n",
       "      <th>code</th>\n",
       "      <th>myname</th>\n",
       "      <th>use_as_is</th>\n",
       "      <th>note</th>\n",
       "      <th>descr1</th>\n",
       "      <th>descr2</th>\n",
       "    </tr>\n",
       "  </thead>\n",
       "  <tbody>\n",
       "    <tr>\n",
       "      <th>0</th>\n",
       "      <td>B01001_001E</td>\n",
       "      <td>population</td>\n",
       "      <td>1</td>\n",
       "      <td>use as is and use for calculations</td>\n",
       "      <td>Estimate!!Total:</td>\n",
       "      <td>SEX BY AGE</td>\n",
       "    </tr>\n",
       "    <tr>\n",
       "      <th>1</th>\n",
       "      <td>B11001_001E</td>\n",
       "      <td>num_households</td>\n",
       "      <td>0</td>\n",
       "      <td>use it for ave household size (popn/).</td>\n",
       "      <td>Estimate!!Total:</td>\n",
       "      <td>HOUSEHOLD TYPE (INCLUDING LIVING ALONE)</td>\n",
       "    </tr>\n",
       "    <tr>\n",
       "      <th>2</th>\n",
       "      <td>B25087_001E</td>\n",
       "      <td>costoliving_old</td>\n",
       "      <td>0</td>\n",
       "      <td></td>\n",
       "      <td>Estimate!!Total:</td>\n",
       "      <td>MORTGAGE STATUS AND SELECTED MONTHLY OWNER COSTS</td>\n",
       "    </tr>\n",
       "    <tr>\n",
       "      <th>3</th>\n",
       "      <td>B25088_001E</td>\n",
       "      <td>costoliving_new1</td>\n",
       "      <td>0</td>\n",
       "      <td></td>\n",
       "      <td>Estimate!!Median selected monthly owner costs ...</td>\n",
       "      <td>MEDIAN SELECTED MONTHLY OWNER COSTS (DOLLARS) ...</td>\n",
       "    </tr>\n",
       "    <tr>\n",
       "      <th>4</th>\n",
       "      <td>B25089_001E</td>\n",
       "      <td>costoliving_new2</td>\n",
       "      <td>0</td>\n",
       "      <td></td>\n",
       "      <td>Estimate!!Aggregate selected monthly owner cos...</td>\n",
       "      <td>AGGREGATE SELECTED MONTHLY OWNER COSTS (DOLLAR...</td>\n",
       "    </tr>\n",
       "    <tr>\n",
       "      <th>5</th>\n",
       "      <td>B25092_001E</td>\n",
       "      <td>costoliving_new3</td>\n",
       "      <td>0</td>\n",
       "      <td></td>\n",
       "      <td>Estimate!!Median selected monthly owner costs ...</td>\n",
       "      <td>MEDIAN SELECTED MONTHLY OWNER COSTS AS A PERCE...</td>\n",
       "    </tr>\n",
       "    <tr>\n",
       "      <th>6</th>\n",
       "      <td>B25104_001E</td>\n",
       "      <td>costoliving_new4</td>\n",
       "      <td>0</td>\n",
       "      <td></td>\n",
       "      <td>Estimate!!Total:</td>\n",
       "      <td>MONTHLY HOUSING COSTS</td>\n",
       "    </tr>\n",
       "    <tr>\n",
       "      <th>7</th>\n",
       "      <td>B25105_001E</td>\n",
       "      <td>costoliving_new5</td>\n",
       "      <td>0</td>\n",
       "      <td></td>\n",
       "      <td>Estimate!!Median monthly housing costs</td>\n",
       "      <td>MEDIAN MONTHLY HOUSING COSTS (DOLLARS)</td>\n",
       "    </tr>\n",
       "  </tbody>\n",
       "</table>\n",
       "</div>"
      ],
      "text/plain": [
       "          code            myname  use_as_is  \\\n",
       "0  B01001_001E        population          1   \n",
       "1  B11001_001E    num_households          0   \n",
       "2  B25087_001E   costoliving_old          0   \n",
       "3  B25088_001E  costoliving_new1          0   \n",
       "4  B25089_001E  costoliving_new2          0   \n",
       "5  B25092_001E  costoliving_new3          0   \n",
       "6  B25104_001E  costoliving_new4          0   \n",
       "7  B25105_001E  costoliving_new5          0   \n",
       "\n",
       "                                     note  \\\n",
       "0      use as is and use for calculations   \n",
       "1  use it for ave household size (popn/).   \n",
       "2                                           \n",
       "3                                           \n",
       "4                                           \n",
       "5                                           \n",
       "6                                           \n",
       "7                                           \n",
       "\n",
       "                                              descr1  \\\n",
       "0                                   Estimate!!Total:   \n",
       "1                                   Estimate!!Total:   \n",
       "2                                   Estimate!!Total:   \n",
       "3  Estimate!!Median selected monthly owner costs ...   \n",
       "4  Estimate!!Aggregate selected monthly owner cos...   \n",
       "5  Estimate!!Median selected monthly owner costs ...   \n",
       "6                                   Estimate!!Total:   \n",
       "7             Estimate!!Median monthly housing costs   \n",
       "\n",
       "                                              descr2  \n",
       "0                                         SEX BY AGE  \n",
       "1            HOUSEHOLD TYPE (INCLUDING LIVING ALONE)  \n",
       "2   MORTGAGE STATUS AND SELECTED MONTHLY OWNER COSTS  \n",
       "3  MEDIAN SELECTED MONTHLY OWNER COSTS (DOLLARS) ...  \n",
       "4  AGGREGATE SELECTED MONTHLY OWNER COSTS (DOLLAR...  \n",
       "5  MEDIAN SELECTED MONTHLY OWNER COSTS AS A PERCE...  \n",
       "6                              MONTHLY HOUSING COSTS  \n",
       "7             MEDIAN MONTHLY HOUSING COSTS (DOLLARS)  "
      ]
     },
     "execution_count": 51,
     "metadata": {},
     "output_type": "execute_result"
    }
   ],
   "source": [
    "    \n",
    "df_fields"
   ]
  },
  {
   "cell_type": "code",
   "execution_count": 52,
   "id": "594dba21",
   "metadata": {},
   "outputs": [],
   "source": [
    "download_fields = [item[0] for item in fields]\n",
    "new_field_names = pd.Series(df_fields.myname.values,index=df_fields.code).to_dict()"
   ]
  },
  {
   "cell_type": "code",
   "execution_count": 53,
   "id": "8b941840",
   "metadata": {},
   "outputs": [],
   "source": [
    "def get_census_data_by_zip(api_key, fields, year):\n",
    "    \"\"\"\n",
    "    Fetch census data by ZIP Code Tabulation Areas (ZCTAs) for specified fields.\n",
    "    \n",
    "    :param api_key: Your Census API Key.\n",
    "    :param fields: List of fields to fetch.\n",
    "    :param year: Census year.\n",
    "    :return: DataFrame with fetched data.\n",
    "    \"\"\"\n",
    "    base_url = f\"https://api.census.gov/data/{year}/acs/acs5\"\n",
    "    \n",
    "    # Combine the fields into a comma-separated string\n",
    "    fields_str = \",\".join(fields)\n",
    "    \n",
    "    # Construct the final URL\n",
    "    url = f\"{base_url}?get={fields_str}&for=zip%20code%20tabulation%20area:*\"\n",
    "    \n",
    "    headers = {\n",
    "        \"Content-Type\": \"application/json\",\n",
    "    }\n",
    "    \n",
    "    # Make the API request\n",
    "    response = requests.get(url, headers=headers, params={\"key\": api_key})\n",
    "    \n",
    "    if response.status_code == 200:\n",
    "        data = response.json()\n",
    "        # Convert data to DataFrame\n",
    "        df = pd.DataFrame(data[1:], columns=data[0])\n",
    "        df['year'] = year\n",
    "        return df\n",
    "    else:\n",
    "        print(f\"Error {response.status_code}: {response.text}\")\n",
    "        return None"
   ]
  },
  {
   "cell_type": "code",
   "execution_count": 54,
   "id": "aa279a87",
   "metadata": {},
   "outputs": [
    {
     "name": "stdout",
     "output_type": "stream",
     "text": [
      "2021\n",
      "(33774, 10)\n"
     ]
    }
   ],
   "source": [
    "dfraw = pd.DataFrame()\n",
    "for year in years:\n",
    "    print(year)\n",
    "    temp_df = get_census_data_by_zip(API_KEY, download_fields, year)\n",
    "    dfraw = pd.concat([dfraw, temp_df])\n",
    "    print(dfraw.shape)\n",
    "dfraw.rename(columns=new_field_names, inplace=True)\n",
    "dfraw.rename(columns = {'zip code tabulation area':'zipcode'}, inplace = True)\n",
    "# re-order columns\n",
    "cols=['zipcode', 'year']\n",
    "dfraw = dfraw[cols + [c for c in dfraw.columns if c not in cols]]"
   ]
  },
  {
   "cell_type": "code",
   "execution_count": 55,
   "id": "57409fde",
   "metadata": {},
   "outputs": [
    {
     "data": {
      "text/html": [
       "<div>\n",
       "<style scoped>\n",
       "    .dataframe tbody tr th:only-of-type {\n",
       "        vertical-align: middle;\n",
       "    }\n",
       "\n",
       "    .dataframe tbody tr th {\n",
       "        vertical-align: top;\n",
       "    }\n",
       "\n",
       "    .dataframe thead th {\n",
       "        text-align: right;\n",
       "    }\n",
       "</style>\n",
       "<table border=\"1\" class=\"dataframe\">\n",
       "  <thead>\n",
       "    <tr style=\"text-align: right;\">\n",
       "      <th></th>\n",
       "      <th>zipcode</th>\n",
       "      <th>year</th>\n",
       "      <th>population</th>\n",
       "      <th>num_households</th>\n",
       "      <th>costoliving_old</th>\n",
       "      <th>costoliving_new1</th>\n",
       "      <th>costoliving_new2</th>\n",
       "      <th>costoliving_new3</th>\n",
       "      <th>costoliving_new4</th>\n",
       "      <th>costoliving_new5</th>\n",
       "    </tr>\n",
       "  </thead>\n",
       "  <tbody>\n",
       "    <tr>\n",
       "      <th>30688</th>\n",
       "      <td>90266</td>\n",
       "      <td>2021</td>\n",
       "      <td>35585</td>\n",
       "      <td>13422</td>\n",
       "      <td>9096</td>\n",
       "      <td>3762</td>\n",
       "      <td>38354400</td>\n",
       "      <td>19.7</td>\n",
       "      <td>13422</td>\n",
       "      <td>3314</td>\n",
       "    </tr>\n",
       "  </tbody>\n",
       "</table>\n",
       "</div>"
      ],
      "text/plain": [
       "      zipcode  year population num_households costoliving_old  \\\n",
       "30688   90266  2021      35585          13422            9096   \n",
       "\n",
       "      costoliving_new1 costoliving_new2 costoliving_new3 costoliving_new4  \\\n",
       "30688             3762         38354400             19.7            13422   \n",
       "\n",
       "      costoliving_new5  \n",
       "30688             3314  "
      ]
     },
     "execution_count": 55,
     "metadata": {},
     "output_type": "execute_result"
    }
   ],
   "source": [
    "dfraw.loc[dfraw['zipcode']=='90266']"
   ]
  },
  {
   "cell_type": "code",
   "execution_count": 61,
   "id": "af7d1c2e",
   "metadata": {},
   "outputs": [
    {
     "data": {
      "text/plain": [
       "'9.0'"
      ]
     },
     "execution_count": 61,
     "metadata": {},
     "output_type": "execute_result"
    }
   ],
   "source": [
    "dfraw['costoliving_new3'].max()"
   ]
  },
  {
   "cell_type": "code",
   "execution_count": 63,
   "id": "68cdf0fd",
   "metadata": {},
   "outputs": [
    {
     "ename": "TypeError",
     "evalue": "arg must be a list, tuple, 1-d array, or Series",
     "output_type": "error",
     "traceback": [
      "\u001b[0;31m---------------------------------------------------------------------------\u001b[0m",
      "\u001b[0;31mTypeError\u001b[0m                                 Traceback (most recent call last)",
      "Cell \u001b[0;32mIn[63], line 1\u001b[0m\n\u001b[0;32m----> 1\u001b[0m \u001b[43mpd\u001b[49m\u001b[38;5;241;43m.\u001b[39;49m\u001b[43mto_numeric\u001b[49m\u001b[43m(\u001b[49m\u001b[43mdfraw\u001b[49m\u001b[43m)\u001b[49m\n",
      "File \u001b[0;32m~/anaconda3/lib/python3.10/site-packages/pandas/core/tools/numeric.py:165\u001b[0m, in \u001b[0;36mto_numeric\u001b[0;34m(arg, errors, downcast)\u001b[0m\n\u001b[1;32m    163\u001b[0m     values \u001b[38;5;241m=\u001b[39m np\u001b[38;5;241m.\u001b[39marray([arg], dtype\u001b[38;5;241m=\u001b[39m\u001b[38;5;124m\"\u001b[39m\u001b[38;5;124mO\u001b[39m\u001b[38;5;124m\"\u001b[39m)\n\u001b[1;32m    164\u001b[0m \u001b[38;5;28;01melif\u001b[39;00m \u001b[38;5;28mgetattr\u001b[39m(arg, \u001b[38;5;124m\"\u001b[39m\u001b[38;5;124mndim\u001b[39m\u001b[38;5;124m\"\u001b[39m, \u001b[38;5;241m1\u001b[39m) \u001b[38;5;241m>\u001b[39m \u001b[38;5;241m1\u001b[39m:\n\u001b[0;32m--> 165\u001b[0m     \u001b[38;5;28;01mraise\u001b[39;00m \u001b[38;5;167;01mTypeError\u001b[39;00m(\u001b[38;5;124m\"\u001b[39m\u001b[38;5;124marg must be a list, tuple, 1-d array, or Series\u001b[39m\u001b[38;5;124m\"\u001b[39m)\n\u001b[1;32m    166\u001b[0m \u001b[38;5;28;01melse\u001b[39;00m:\n\u001b[1;32m    167\u001b[0m     values \u001b[38;5;241m=\u001b[39m arg\n",
      "\u001b[0;31mTypeError\u001b[0m: arg must be a list, tuple, 1-d array, or Series"
     ]
    }
   ],
   "source": [
    "pd.to_numeric(dfraw)"
   ]
  },
  {
   "cell_type": "code",
   "execution_count": 65,
   "id": "66b2978b",
   "metadata": {},
   "outputs": [],
   "source": [
    "dfzz = dfraw.astype({\n",
    "    'costoliving_new3': 'float16',\n",
    "})"
   ]
  },
  {
   "cell_type": "code",
   "execution_count": 69,
   "id": "1934033b",
   "metadata": {},
   "outputs": [
    {
     "data": {
      "text/plain": [
       "count    33774.00000\n",
       "mean            -inf\n",
       "std              NaN\n",
       "min             -inf\n",
       "25%         13.50000\n",
       "50%         16.00000\n",
       "75%         18.40625\n",
       "max         51.00000\n",
       "Name: costoliving_new3, dtype: float64"
      ]
     },
     "execution_count": 69,
     "metadata": {},
     "output_type": "execute_result"
    }
   ],
   "source": [
    "dfzz['costoliving_new3'].describe()"
   ]
  },
  {
   "cell_type": "code",
   "execution_count": null,
   "id": "8505d8c8",
   "metadata": {},
   "outputs": [],
   "source": []
  }
 ],
 "metadata": {
  "kernelspec": {
   "display_name": "Python 3 (ipykernel)",
   "language": "python",
   "name": "python3"
  },
  "language_info": {
   "codemirror_mode": {
    "name": "ipython",
    "version": 3
   },
   "file_extension": ".py",
   "mimetype": "text/x-python",
   "name": "python",
   "nbconvert_exporter": "python",
   "pygments_lexer": "ipython3",
   "version": "3.10.9"
  }
 },
 "nbformat": 4,
 "nbformat_minor": 5
}
